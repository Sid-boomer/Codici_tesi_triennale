{
 "cells": [
  {
   "cell_type": "markdown",
   "metadata": {},
   "source": [
    "EX PAG8 DISPENSE: il risultato viene solo scambiando area cilindro con area shield"
   ]
  },
  {
   "cell_type": "code",
   "execution_count": 2,
   "metadata": {},
   "outputs": [
    {
     "name": "stdout",
     "output_type": "stream",
     "text": [
      "Q = 6.8455e+00 W\n"
     ]
    }
   ],
   "source": [
    "import numpy as np\n",
    "\n",
    "\n",
    "# Definizione costante di Stefan-Boltzmann\n",
    "sigma = 5.670e-8  # W/m^2K^4\n",
    "\n",
    "\n",
    "def main() :\n",
    "    \n",
    "    # Caratteristiche geometriche\n",
    "    A1 = 6361.7e-4 # superficie cilindro \n",
    "    A2 = 7854e-4 # superficie shield\n",
    "    T1 = 50 # temperatura cilindro\n",
    "    T2 = 300 # temperatura shield\n",
    "    epsilon1 = 0.03 # emissività ???\n",
    "    epsilon2 = 0.08 # emissività ???\n",
    "\n",
    "    # Calcolo di Q\n",
    "    Q = (sigma * A1 * (T2**4 - T1**4)) / (1/epsilon1 + (A1/A2) * (1/epsilon2 - 1))           \n",
    "\n",
    "    # Output del risultato\n",
    "    print(f\"Q = {Q:.4e} W\")\n",
    "\n",
    "if __name__ == \"__main__\":\n",
    "  main ()"
   ]
  }
 ],
 "metadata": {
  "kernelspec": {
   "display_name": "base",
   "language": "python",
   "name": "python3"
  },
  "language_info": {
   "codemirror_mode": {
    "name": "ipython",
    "version": 3
   },
   "file_extension": ".py",
   "mimetype": "text/x-python",
   "name": "python",
   "nbconvert_exporter": "python",
   "pygments_lexer": "ipython3",
   "version": "3.12.4"
  }
 },
 "nbformat": 4,
 "nbformat_minor": 2
}
