{
 "cells": [
  {
   "cell_type": "markdown",
   "metadata": {},
   "source": [
    "CALCOLA CARICO TERMICO DI RADIAZIONE SUPPONENDO BUCO 1CM a 300K TO AREA 1CM 4K"
   ]
  },
  {
   "cell_type": "code",
   "execution_count": 1,
   "metadata": {},
   "outputs": [
    {
     "name": "stdout",
     "output_type": "stream",
     "text": [
      "Q = -4.2135e-01 W\n"
     ]
    }
   ],
   "source": [
    "\n",
    "import numpy as np\n",
    "\n",
    "\n",
    "# Definizione costante di Stefan-Boltzmann\n",
    "sigma = 5.670e-8  # W/m^2K^4\n",
    "\n",
    "\n",
    "def main() :\n",
    "    \n",
    "    # Caratteristiche geometriche\n",
    "    A1 = 1e-2\n",
    "    A2 = 1e-1\n",
    "    T1 = 300 # temperatura ext\n",
    "    T2 = 4 # temperatura int\n",
    "    epsilon1 = 0.1 # emissività\n",
    "    epsilon2 = 0.1 # emissività\n",
    "\n",
    "    # Calcolo di Q\n",
    "    Q = (sigma * A1 * (T2**4 - T1**4)) / (1/epsilon1 + (A1/A2) * (1/epsilon2 - 1))           \n",
    "\n",
    "    # Output del risultato\n",
    "    print(f\"Q = {Q:.4e} W\")\n",
    "\n",
    "if __name__ == \"__main__\":\n",
    "  main ()"
   ]
  }
 ],
 "metadata": {
  "kernelspec": {
   "display_name": "base",
   "language": "python",
   "name": "python3"
  },
  "language_info": {
   "codemirror_mode": {
    "name": "ipython",
    "version": 3
   },
   "file_extension": ".py",
   "mimetype": "text/x-python",
   "name": "python",
   "nbconvert_exporter": "python",
   "pygments_lexer": "ipython3",
   "version": "3.12.4"
  }
 },
 "nbformat": 4,
 "nbformat_minor": 2
}
